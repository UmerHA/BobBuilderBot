{
 "cells": [
  {
   "cell_type": "code",
   "execution_count": 1,
   "id": "b430c905",
   "metadata": {},
   "outputs": [],
   "source": [
    "from builderbot import BuilderBot"
   ]
  },
  {
   "cell_type": "code",
   "execution_count": null,
   "id": "273e1980",
   "metadata": {},
   "outputs": [],
   "source": []
  },
  {
   "cell_type": "code",
   "execution_count": 2,
   "id": "edbe49ec",
   "metadata": {},
   "outputs": [],
   "source": [
    "task = \"I want a website where I can track my weight\""
   ]
  },
  {
   "cell_type": "code",
   "execution_count": null,
   "id": "a4305739",
   "metadata": {},
   "outputs": [],
   "source": []
  },
  {
   "cell_type": "code",
   "execution_count": 3,
   "id": "397eac9b",
   "metadata": {},
   "outputs": [],
   "source": [
    "bob = BuilderBot(\"gpt-4\", cache_filename=\"cache/cache.pkl\")"
   ]
  },
  {
   "cell_type": "code",
   "execution_count": null,
   "id": "91c5d313",
   "metadata": {},
   "outputs": [],
   "source": []
  },
  {
   "cell_type": "code",
   "execution_count": null,
   "id": "46c0ad23",
   "metadata": {
    "scrolled": false
   },
   "outputs": [
    {
     "name": "stdout",
     "output_type": "stream",
     "text": [
      ">>> DevPhase.UNDERSTAND\n",
      "> Initial response:\n",
      "The user's goal is to have a website where they can track their weight.\n",
      "\n",
      "Therefore, the user needs:\n",
      "- A secure way to register and log in to the website (using Replit Auth).\n",
      "- Functionality to input their current weight and the date of the entry.\n",
      "- Functionality to view a list of previous weight entries in reverse chronological order (most recent first).\n",
      "- Functionality to edit or delete a previous weight entry.\n",
      "- Functionality to display a simple line chart showing the user's weight over time.\n",
      "\n",
      "In this, I have made the following assumptions:\n",
      "- The user wants to track their weight periodically, not daily.\n",
      "- The user is primarily interested in tracking their own weight, not sharing or comparing it with others.\n",
      "- The user wants a simple visualization of their weight progress over time (line chart).\n",
      "- The user prefers a web-based solution, not a mobile application.\n",
      "\n",
      "I have no questions to the user.\n",
      "\n",
      "> Self-critique:\n",
      "1) Yes, the project description matches the user goal of creating a website where they can track their weight.\n",
      "2) Yes, enough functionality is included in the project description for building an MVP.\n",
      "3) Yes, the assumptions made are reasonable considering the user's goal.\n",
      "4) There are no additional questions needed to be asked from the user since the project description is clear and comprehensive.\n",
      "5) Yes, I can answer the user questions myself by making reasonable assumptions based on the provided information and the user's goal.\n",
      "\n",
      "> Thoughtful response:\n",
      "{\n",
      "  \"user_goal\": \"The user's goal is to have a website where they can track their weight.\",\n",
      "  \"requirements\": [\n",
      "    {\n",
      "      \"content\": \"A secure way to register and log in to the website (using Replit Auth).\"\n",
      "    },\n",
      "    {\n",
      "      \"content\": \"Functionality to input their current weight and the date of the entry.\"\n",
      "    },\n",
      "    {\n",
      "      \"content\": \"Functionality to view a list of previous weight entries in reverse chronological order (most recent first).\"\n",
      "    },\n",
      "    {\n",
      "      \"content\": \"Functionality to edit or delete a previous weight entry.\"\n",
      "    },\n",
      "    {\n",
      "      \"content\": \"Functionality to display a simple line chart showing the user's weight over time.\"\n",
      "    }\n",
      "  ],\n",
      "  \"assumptions\": [\n",
      "    {\n",
      "      \"content\": \"The user wants to track their weight periodically, not daily.\"\n",
      "    },\n",
      "    {\n",
      "      \"content\": \"The user is primarily interested in tracking their own weight, not sharing or comparing it with others.\"\n",
      "    },\n",
      "    {\n",
      "      \"content\": \"The user wants a simple visualization of their weight progress over time (line chart).\"\n",
      "    },\n",
      "    {\n",
      "      \"content\": \"The user prefers a web-based solution, not a mobile application.\"\n",
      "    }\n",
      "  ],\n",
      "  \"questions\": []\n",
      "}\n",
      "\n",
      ">>> DevPhase.ARCHITECTURE\n"
     ]
    }
   ],
   "source": [
    "bob.build(task, verbose=True)"
   ]
  },
  {
   "cell_type": "code",
   "execution_count": null,
   "id": "33586764",
   "metadata": {},
   "outputs": [],
   "source": []
  },
  {
   "cell_type": "code",
   "execution_count": null,
   "id": "5c008437",
   "metadata": {},
   "outputs": [],
   "source": []
  }
 ],
 "metadata": {
  "kernelspec": {
   "display_name": "Python 3 (ipykernel)",
   "language": "python",
   "name": "python3"
  },
  "language_info": {
   "codemirror_mode": {
    "name": "ipython",
    "version": 3
   },
   "file_extension": ".py",
   "mimetype": "text/x-python",
   "name": "python",
   "nbconvert_exporter": "python",
   "pygments_lexer": "ipython3",
   "version": "3.11.0"
  }
 },
 "nbformat": 4,
 "nbformat_minor": 5
}
