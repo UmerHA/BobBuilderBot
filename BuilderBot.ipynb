{
 "cells": [
  {
   "cell_type": "code",
   "execution_count": 1,
   "id": "cd78dfd9",
   "metadata": {},
   "outputs": [],
   "source": [
    "import os\n",
    "import datetime\n",
    "import pandas as pd\n",
    "from dotenv import load_dotenv\n",
    "load_dotenv()\n",
    "openai_api_key = os.getenv(\"OPENAI_API_KEY\")"
   ]
  },
  {
   "cell_type": "code",
   "execution_count": 2,
   "id": "5c91ee35",
   "metadata": {},
   "outputs": [],
   "source": [
    "from typing import List"
   ]
  },
  {
   "cell_type": "code",
   "execution_count": null,
   "id": "64b37b06",
   "metadata": {},
   "outputs": [],
   "source": []
  },
  {
   "cell_type": "code",
   "execution_count": 3,
   "id": "6ddc1a55",
   "metadata": {},
   "outputs": [],
   "source": [
    "task = \"I want a website where I can track my weight\""
   ]
  },
  {
   "cell_type": "code",
   "execution_count": 4,
   "id": "a4c02069",
   "metadata": {},
   "outputs": [],
   "source": [
    "# 1. Make detailed requirements list & ask clarifying questions\n",
    "# 2. Decide on tech stack & architecture\n",
    "# 3. Create files & code skeleton (ie signatures of main function + short describtion)\n",
    "# 4. Create test files & define test cases\n",
    "# 5. For each feature:\n",
    "# 6. -- Implement code & test at each step if it works\n",
    "# 7. -- Write unit test & make sure they pass\n",
    "# 8. Write integration test\n",
    "# 9. For each integration test: make sure they pass\n",
    "# 10. Deploy\n",
    "# ---\n",
    "# 11. Ask for user feedback (\"Is this exactly how you want it? Can I make it any better for you?\")"
   ]
  },
  {
   "cell_type": "code",
   "execution_count": null,
   "id": "ba8aef7a",
   "metadata": {},
   "outputs": [],
   "source": []
  },
  {
   "cell_type": "code",
   "execution_count": null,
   "id": "a9a082fa",
   "metadata": {},
   "outputs": [],
   "source": []
  },
  {
   "cell_type": "code",
   "execution_count": 25,
   "id": "9b3e8099",
   "metadata": {
    "code_folding": [
     0
    ]
   },
   "outputs": [],
   "source": [
    "class RunManager():\n",
    "    file = \"runs.txt\"\n",
    "\n",
    "    def __init__(self):\n",
    "        if os.path.exists(self.file):\n",
    "            self.runs = pd.read_csv(self.file)\n",
    "        else:\n",
    "            self.runs = pd.DataFrame(columns=[\"run_no\", \"time\"])\n",
    "            self.save()\n",
    "\n",
    "    @property\n",
    "    def run_no(self):\n",
    "        return 0 if self.runs.empty else self.runs.run_no.max()\n",
    "\n",
    "    def start_run(self):\n",
    "        now = datetime.datetime.now().strftime(\"%Y-%m-%dT%H-%M\")\n",
    "        self.runs.loc[len(self.runs)] = {\"run_no\": self.run_no+1, \"time\": now}\n",
    "        self.save()\n",
    "\n",
    "    def save(self):\n",
    "        self.runs.to_csv(self.file, index=False)"
   ]
  },
  {
   "cell_type": "code",
   "execution_count": 28,
   "id": "c5d80049",
   "metadata": {},
   "outputs": [],
   "source": [
    "RunManager().start_run()"
   ]
  },
  {
   "cell_type": "code",
   "execution_count": null,
   "id": "fd44152e",
   "metadata": {},
   "outputs": [],
   "source": []
  },
  {
   "cell_type": "code",
   "execution_count": null,
   "id": "7e4cf349",
   "metadata": {},
   "outputs": [],
   "source": []
  },
  {
   "cell_type": "code",
   "execution_count": 34,
   "id": "44fce1b5",
   "metadata": {},
   "outputs": [],
   "source": [
    "# prompt files for easier access\n",
    "UNDERSTAND = \"1_understand_requirement\"\n",
    "ARCHITECTURE = \"2_choose_architecture\""
   ]
  },
  {
   "cell_type": "code",
   "execution_count": null,
   "id": "55a33741",
   "metadata": {},
   "outputs": [],
   "source": []
  },
  {
   "cell_type": "code",
   "execution_count": 35,
   "id": "808c0656",
   "metadata": {},
   "outputs": [],
   "source": [
    "from langchain.chat_models import ChatOpenAI\n",
    "llm = ChatOpenAI(openai_api_key=openai_api_key, model_name=\"gpt-3.5-turbo\")"
   ]
  },
  {
   "cell_type": "code",
   "execution_count": null,
   "id": "5ec49ae6",
   "metadata": {},
   "outputs": [],
   "source": []
  },
  {
   "cell_type": "code",
   "execution_count": 36,
   "id": "80e93505",
   "metadata": {},
   "outputs": [],
   "source": [
    "from langchain.prompts import ChatPromptTemplate, HumanMessagePromptTemplate\n",
    "from langchain.schema import HumanMessage, BaseMessage\n",
    "\n",
    "def load_prompt(prompt_file: str) -> ChatPromptTemplate:\n",
    "    path_to_prompt = f\"prompts/{prompt_file}.txt\"\n",
    "    with open(path_to_prompt, \"r\") as file:\n",
    "        file_contents = file.read()\n",
    "    # todo: use system msg \n",
    "    human_msg = HumanMessagePromptTemplate.from_template(file_contents)\n",
    "    return ChatPromptTemplate.from_messages([human_msg])\n",
    "\n",
    "def get_prompt(prompt_file: str, **prompt_vars) -> List[BaseMessage]:\n",
    "    prompt_template = load_prompt(prompt_file)\n",
    "    return prompt_template.format_prompt(**prompt_vars).to_messages()"
   ]
  },
  {
   "cell_type": "code",
   "execution_count": 37,
   "id": "2d0d752c",
   "metadata": {},
   "outputs": [],
   "source": [
    "def get_thoughtful_reponse(prompt_file: str, verbose=True, save_to=None, **prompt_vars) -> str:\n",
    "    # Step 1: Initial response\n",
    "    initial_response = llm(get_prompt(prompt_file, **prompt_vars)).content\n",
    "    if verbose: print(f\"> Initial response:\\n{initial_response}\\n\")    \n",
    "\n",
    "    # Step 2: Self-critique\n",
    "    critique = llm(get_prompt(prompt_file+\"__reflect\", initial_response=initial_response, **prompt_vars)).content\n",
    "    if verbose: print(f\"> Self-critique:\\n{critique}\\n\")\n",
    "\n",
    "    \n",
    "    # Step 3: Thoughtful response\n",
    "    thoughtful_response = llm(get_prompt(prompt_file+\"__resolve\", initial_response=initial_response, critique=critique, **prompt_vars)).content\n",
    "    if verbose: print(f\"> Thoughtful response:\\n{thoughtful_response}\\n\")\n",
    "    \n",
    "    if save_to:\n",
    "        now = datetime.datetime.now().strftime(\"%Y%m%dT%H%M\")\n",
    "        with open(f\"cache/{save_to}--{now}.txt\", \"w\") as file:\n",
    "            file.write(thoughtful_response)\n",
    "    \n",
    "    return thoughtful_response"
   ]
  },
  {
   "cell_type": "code",
   "execution_count": null,
   "id": "50588d88",
   "metadata": {},
   "outputs": [],
   "source": []
  },
  {
   "cell_type": "markdown",
   "id": "cad6b32b",
   "metadata": {},
   "source": [
    "### 1. Make detailed requirements list & ask clarifying questions"
   ]
  },
  {
   "cell_type": "code",
   "execution_count": 38,
   "id": "c854b7a5",
   "metadata": {},
   "outputs": [],
   "source": [
    "# TODO: what if we have questions?"
   ]
  },
  {
   "cell_type": "code",
   "execution_count": 39,
   "id": "93f78f1a",
   "metadata": {},
   "outputs": [
    {
     "name": "stdout",
     "output_type": "stream",
     "text": [
      "> Initial response:\n",
      "The user's goal is to track their weight on a website, allowing them to view their progress over time and make informed decisions about their health and fitness.\n",
      "\n",
      "Therefore, the user needs:\n",
      "- A user account system that allows them to create and log in to their personal profile\n",
      "- A dashboard where they can view their weight history and progress chart\n",
      "- A form for entering their weight data, including date and time of measurement\n",
      "- The ability to edit or delete their weight data entries\n",
      "- Basic data analysis functions, including average weight, weight change over time, and BMI calculation\n",
      "\n",
      "In this, I have made the following assumptions:\n",
      "- The user will only be tracking their weight and not other health metrics or fitness goals\n",
      "- The website will not include any social features, such as sharing progress with friends or joining groups\n",
      "- Users will be responsible for manually entering their weight data, rather than using a connected device or automatic tracking system\n",
      "\n",
      "I have no questions for the user.\n",
      "\n",
      "> Self-critique:\n",
      "[Begin of format description]\n",
      "1) Yes, the project description matches the user goal.\n",
      "2) Yes, we have all the necessary functionality.\n",
      "3) Yes, the assumptions are reasonable based on the user's stated objective.\n",
      "4) No additional questions are necessary.\n",
      "\n",
      "[End of format description]\n",
      "\n",
      "> Thoughtful response:\n",
      "[Begin of format description]\n",
      "The user's goal is to track their weight on a website, allowing them to view their progress over time and make informed decisions about their health and fitness.\n",
      "\n",
      "Therefore, the user needs:\n",
      "- A user account system that allows them to create and log in to their personal profile\n",
      "- A dashboard with a weight progress chart, displaying their weight history and allowing them to set goals\n",
      "- A form for entering their weight data, including date and time of measurement, and any notes they want to add\n",
      "- The ability to edit or delete their weight data entries\n",
      "- Basic data analysis functions, including average weight, weight change over time, and BMI calculation\n",
      "- Automated reminders to log their weight on a regular basis\n",
      "- Integration with third-party fitness apps, such as Fitbit or MyFitnessPal, to import weight data and provide additional insights\n",
      "\n",
      "In this, I have made the following assumptions:\n",
      "- The user will only be tracking their weight and not other health metrics or fitness goals\n",
      "- The website will allow users to connect with a personal trainer or nutritionist for additional support\n",
      "- The website will be accessible on both desktop and mobile devices\n",
      "\n",
      "I have no questions for the user.\n",
      "[End of format description]\n",
      "\n"
     ]
    }
   ],
   "source": [
    "project_description = get_thoughtful_reponse(UNDERSTAND, user_goal=task, save_to=\"1_understand\")"
   ]
  },
  {
   "cell_type": "code",
   "execution_count": null,
   "id": "8fb3c67d",
   "metadata": {},
   "outputs": [],
   "source": []
  },
  {
   "cell_type": "markdown",
   "id": "2cbbeb8c",
   "metadata": {},
   "source": [
    "### 2. Decide on tech stack & architecture"
   ]
  },
  {
   "cell_type": "code",
   "execution_count": 11,
   "id": "2af51977",
   "metadata": {},
   "outputs": [],
   "source": [
    "# todo: include description of replit auth + storage, as that simplifies architecture"
   ]
  },
  {
   "cell_type": "code",
   "execution_count": 40,
   "id": "7e76b780",
   "metadata": {},
   "outputs": [
    {
     "name": "stdout",
     "output_type": "stream",
     "text": [
      "> Initial response:\n",
      "For this project, I would recommend a three-tier architecture, consisting of a presentation tier, an application tier, and a data tier.\n",
      "\n",
      "The presentation tier would be responsible for handling user interactions and displaying data to the user. This could be implemented using a modern JavaScript framework such as React or Angular. The user account system and weight data entry form could be implemented as components within the presentation tier.\n",
      "\n",
      "The application tier would be responsible for processing user requests and performing the necessary business logic. This could be implemented using a server-side framework such as Node.js or Django. The weight progress chart, data analysis functions, and automated reminders could be implemented within the application tier.\n",
      "\n",
      "The data tier would be responsible for storing and retrieving user data. This could be implemented using a relational database such as MySQL or PostgreSQL. The user account information, weight data, and any additional supporting data could be stored within the data tier.\n",
      "\n",
      "For integration with third-party fitness apps, I would recommend using APIs provided by these services. This would allow the website to import weight data and provide additional insights to users.\n",
      "\n",
      "Overall, this architecture would provide a scalable and maintainable solution for the weight tracking website, while matching the project goals and requirements. The tech stack could be customized based on the specific needs and preferences of the development team.\n",
      "\n",
      "> Self-critique:\n",
      "As an AI language model, I do not have personal thoughts or opinions. However, based on the project description, the proposed three-tier architecture seems appropriate for the weight tracking website. It separates the responsibilities of handling user interactions, processing business logic, and storing data, which can lead to better scalability and maintainability. \n",
      "\n",
      "Using a modern JavaScript framework for the presentation tier and a server-side framework for the application tier can provide a good balance between front-end and back-end development. Additionally, using a relational database for the data tier can provide a structured and organized way to store and retrieve user data. \n",
      "\n",
      "The integration with third-party fitness apps through APIs can help provide additional insights to users and enhance the user experience. \n",
      "\n",
      "Overall, the proposed architecture and tech stack seem to match the project goals and requirements. However, the specific technologies used may depend on the development team's preferences and expertise.\n",
      "\n",
      "> Thoughtful response:\n",
      "Based on the project description and the critique, my thoughts remain the same. A three-tier architecture with a presentation tier, an application tier, and a data tier seems appropriate for the weight tracking website. Using a modern JavaScript framework for the presentation tier, a server-side framework for the application tier, and a relational database for the data tier can provide a scalable and maintainable solution. The integration with third-party fitness apps through APIs can enhance the user experience and provide additional insights to users. The specific technologies used may depend on the development team's preferences and expertise.\n",
      "\n"
     ]
    }
   ],
   "source": [
    "architecture = get_thoughtful_reponse(ARCHITECTURE, project_description=project_description, save_to=\"2_architecture\")"
   ]
  },
  {
   "cell_type": "code",
   "execution_count": null,
   "id": "241de742",
   "metadata": {},
   "outputs": [],
   "source": []
  },
  {
   "cell_type": "code",
   "execution_count": null,
   "id": "a990412c",
   "metadata": {},
   "outputs": [],
   "source": []
  },
  {
   "cell_type": "code",
   "execution_count": null,
   "id": "faf5a957",
   "metadata": {},
   "outputs": [],
   "source": []
  },
  {
   "cell_type": "markdown",
   "id": "2ebe433a",
   "metadata": {},
   "source": [
    "### 3. Create files & code skeleton (ie signatures of main function + short describtion)"
   ]
  },
  {
   "cell_type": "code",
   "execution_count": null,
   "id": "9f458387",
   "metadata": {},
   "outputs": [],
   "source": [
    "# Based on project description & architecture:\n",
    "# Choose which files I need\n",
    "# Then write a code sekeleton"
   ]
  },
  {
   "cell_type": "code",
   "execution_count": null,
   "id": "7a80e370",
   "metadata": {},
   "outputs": [],
   "source": []
  },
  {
   "cell_type": "code",
   "execution_count": null,
   "id": "10c8d708",
   "metadata": {},
   "outputs": [],
   "source": []
  },
  {
   "cell_type": "code",
   "execution_count": null,
   "id": "c82c1a07",
   "metadata": {},
   "outputs": [],
   "source": []
  },
  {
   "cell_type": "code",
   "execution_count": null,
   "id": "84cbe91f",
   "metadata": {},
   "outputs": [],
   "source": []
  },
  {
   "cell_type": "code",
   "execution_count": null,
   "id": "5394ced6",
   "metadata": {},
   "outputs": [],
   "source": []
  },
  {
   "cell_type": "code",
   "execution_count": null,
   "id": "91b06ab5",
   "metadata": {},
   "outputs": [],
   "source": []
  },
  {
   "cell_type": "markdown",
   "id": "5eb19619",
   "metadata": {
    "heading_collapsed": true
   },
   "source": [
    "### 4. Create test files & define test cases"
   ]
  },
  {
   "cell_type": "code",
   "execution_count": null,
   "id": "a4704070",
   "metadata": {
    "hidden": true
   },
   "outputs": [],
   "source": []
  },
  {
   "cell_type": "code",
   "execution_count": null,
   "id": "6b271a08",
   "metadata": {
    "hidden": true
   },
   "outputs": [],
   "source": []
  },
  {
   "cell_type": "markdown",
   "id": "b3c5a3d6",
   "metadata": {
    "heading_collapsed": true
   },
   "source": [
    "### 5./6./7. For each feature: Implement code & test at each step if it works // Write unit test & make sure they pass"
   ]
  },
  {
   "cell_type": "code",
   "execution_count": null,
   "id": "97f349f7",
   "metadata": {
    "hidden": true
   },
   "outputs": [],
   "source": []
  },
  {
   "cell_type": "code",
   "execution_count": null,
   "id": "4ea51050",
   "metadata": {
    "hidden": true
   },
   "outputs": [],
   "source": []
  },
  {
   "cell_type": "markdown",
   "id": "e503c9e2",
   "metadata": {
    "heading_collapsed": true
   },
   "source": [
    "### 8. Write integration test"
   ]
  },
  {
   "cell_type": "code",
   "execution_count": null,
   "id": "ed6f255e",
   "metadata": {
    "hidden": true
   },
   "outputs": [],
   "source": []
  },
  {
   "cell_type": "code",
   "execution_count": null,
   "id": "b87385e0",
   "metadata": {
    "hidden": true
   },
   "outputs": [],
   "source": []
  },
  {
   "cell_type": "markdown",
   "id": "f9c4ba87",
   "metadata": {
    "heading_collapsed": true
   },
   "source": [
    "### 9. For each integration test: make sure they pass"
   ]
  },
  {
   "cell_type": "code",
   "execution_count": null,
   "id": "32442f6c",
   "metadata": {
    "hidden": true
   },
   "outputs": [],
   "source": []
  },
  {
   "cell_type": "code",
   "execution_count": null,
   "id": "02c6c58c",
   "metadata": {
    "hidden": true
   },
   "outputs": [],
   "source": []
  },
  {
   "cell_type": "markdown",
   "id": "642108de",
   "metadata": {
    "heading_collapsed": true
   },
   "source": [
    "### 10. Deploy"
   ]
  },
  {
   "cell_type": "code",
   "execution_count": null,
   "id": "980921de",
   "metadata": {
    "hidden": true
   },
   "outputs": [],
   "source": []
  },
  {
   "cell_type": "code",
   "execution_count": null,
   "id": "e8b77269",
   "metadata": {
    "hidden": true
   },
   "outputs": [],
   "source": []
  },
  {
   "cell_type": "markdown",
   "id": "7db7f866",
   "metadata": {},
   "source": [
    "### Footer"
   ]
  },
  {
   "cell_type": "code",
   "execution_count": null,
   "id": "35c6d4cb",
   "metadata": {},
   "outputs": [],
   "source": []
  },
  {
   "cell_type": "code",
   "execution_count": null,
   "id": "f4a2bee7",
   "metadata": {},
   "outputs": [],
   "source": []
  }
 ],
 "metadata": {
  "kernelspec": {
   "display_name": "Python 3 (ipykernel)",
   "language": "python",
   "name": "python3"
  },
  "language_info": {
   "codemirror_mode": {
    "name": "ipython",
    "version": 3
   },
   "file_extension": ".py",
   "mimetype": "text/x-python",
   "name": "python",
   "nbconvert_exporter": "python",
   "pygments_lexer": "ipython3",
   "version": "3.11.0"
  }
 },
 "nbformat": 4,
 "nbformat_minor": 5
}
