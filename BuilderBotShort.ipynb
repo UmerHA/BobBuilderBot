{
 "cells": [
  {
   "cell_type": "code",
   "execution_count": null,
   "id": "e67404e7",
   "metadata": {},
   "outputs": [],
   "source": [
    "from builderbot.builderbot import BuilderBot"
   ]
  },
  {
   "cell_type": "code",
   "execution_count": null,
   "id": "aaea1df7",
   "metadata": {},
   "outputs": [],
   "source": []
  },
  {
   "cell_type": "code",
   "execution_count": null,
   "id": "285c587f",
   "metadata": {},
   "outputs": [],
   "source": [
    "task = \"I want a website where I can track my weight\""
   ]
  },
  {
   "cell_type": "code",
   "execution_count": null,
   "id": "5729c1d2",
   "metadata": {},
   "outputs": [],
   "source": []
  },
  {
   "cell_type": "code",
   "execution_count": null,
   "id": "19a00d3f",
   "metadata": {},
   "outputs": [],
   "source": [
    "bob = BuilderBot(\"gpt-4\")"
   ]
  },
  {
   "cell_type": "code",
   "execution_count": null,
   "id": "0d5b0bbd",
   "metadata": {},
   "outputs": [],
   "source": []
  },
  {
   "cell_type": "code",
   "execution_count": null,
   "id": "48d40b9f",
   "metadata": {
    "scrolled": false
   },
   "outputs": [],
   "source": [
    "bob.build(task)"
   ]
  },
  {
   "cell_type": "code",
   "execution_count": null,
   "id": "792d97aa",
   "metadata": {},
   "outputs": [],
   "source": []
  },
  {
   "cell_type": "code",
   "execution_count": null,
   "id": "7577bf9b",
   "metadata": {},
   "outputs": [],
   "source": []
  },
  {
   "cell_type": "code",
   "execution_count": null,
   "id": "928e3772",
   "metadata": {},
   "outputs": [],
   "source": []
  },
  {
   "cell_type": "code",
   "execution_count": null,
   "id": "bfb6198c",
   "metadata": {},
   "outputs": [],
   "source": []
  },
  {
   "cell_type": "code",
   "execution_count": null,
   "id": "ce9853ba",
   "metadata": {},
   "outputs": [],
   "source": []
  }
 ],
 "metadata": {
  "kernelspec": {
   "display_name": "Python 3 (ipykernel)",
   "language": "python",
   "name": "python3"
  },
  "language_info": {
   "codemirror_mode": {
    "name": "ipython",
    "version": 3
   },
   "file_extension": ".py",
   "mimetype": "text/x-python",
   "name": "python",
   "nbconvert_exporter": "python",
   "pygments_lexer": "ipython3",
   "version": "3.11.0"
  }
 },
 "nbformat": 4,
 "nbformat_minor": 5
}
