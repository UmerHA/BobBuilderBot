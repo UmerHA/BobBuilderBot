{
 "cells": [
  {
   "cell_type": "code",
   "execution_count": 1,
   "id": "5c91ee35",
   "metadata": {},
   "outputs": [],
   "source": [
    "from builderbot.builderbot import BuilderBot"
   ]
  },
  {
   "cell_type": "code",
   "execution_count": null,
   "id": "64b37b06",
   "metadata": {},
   "outputs": [],
   "source": []
  },
  {
   "cell_type": "code",
   "execution_count": 2,
   "id": "6ddc1a55",
   "metadata": {},
   "outputs": [],
   "source": [
    "task = \"I want a website where I can track my weight\""
   ]
  },
  {
   "cell_type": "code",
   "execution_count": 3,
   "id": "a4c02069",
   "metadata": {},
   "outputs": [],
   "source": [
    "# 1. Make detailed requirements list & ask clarifying questions\n",
    "# 2. Decide on tech stack & architecture\n",
    "# 3. Create files & code skeleton (ie signatures of main function + short describtion)\n",
    "# 4. Create test files & define test cases\n",
    "# 5. For each feature:\n",
    "# 6. -- Implement code & test at each step if it works\n",
    "# 7. -- Write unit test & make sure they pass\n",
    "# 8. Write integration test\n",
    "# 9. For each integration test: make sure they pass\n",
    "# 10. Deploy\n",
    "# ---\n",
    "# 11. Ask for user feedback (\"Is this exactly how you want it? Can I make it any better for you?\")"
   ]
  },
  {
   "cell_type": "code",
   "execution_count": null,
   "id": "ba8aef7a",
   "metadata": {},
   "outputs": [],
   "source": []
  },
  {
   "cell_type": "code",
   "execution_count": 4,
   "id": "0161b33f",
   "metadata": {},
   "outputs": [],
   "source": [
    "bob = BuilderBot(\"gpt-4\")"
   ]
  },
  {
   "cell_type": "code",
   "execution_count": 5,
   "id": "ed3947d2",
   "metadata": {},
   "outputs": [
    {
     "name": "stderr",
     "output_type": "stream",
     "text": [
      "Retrying langchain.chat_models.openai.ChatOpenAI.completion_with_retry.<locals>._completion_with_retry in 1.0 seconds as it raised RateLimitError: That model is currently overloaded with other requests. You can retry your request, or contact us through our help center at help.openai.com if the error persists. (Please include the request ID 25b0e771969abe66d3cfc0d414bac2b7 in your message.).\n"
     ]
    },
    {
     "name": "stdout",
     "output_type": "stream",
     "text": [
      "> Initial response:\n",
      "The user's goal is to have a website where they can track their weight over time.\n",
      "\n",
      "Therefore, the user needs:\n",
      "- A simple registration and login system to create and access their account\n",
      "- A form to input their current weight and date\n",
      "- A way to view their weight history, including dates and changes\n",
      "- A basic visualization, such as a line chart, to display their weight progress\n",
      "\n",
      "In this, I have made the following assumptions:\n",
      "- The user wants to track their weight in a consistent unit (e.g. kilograms or pounds)\n",
      "- The user wants to track their weight over time, implying the need for date input and display\n",
      "- A single user will use the website\n",
      "- The user does not require any advanced features like goal setting, reminders, or social sharing at this stage\n",
      "\n",
      "I have no question for the user.\n",
      "\n"
     ]
    },
    {
     "ename": "TypeError",
     "evalue": "save_llm_output() missing 1 required positional argument: 'run_manager'",
     "output_type": "error",
     "traceback": [
      "\u001b[1;31m---------------------------------------------------------------------------\u001b[0m",
      "\u001b[1;31mTypeError\u001b[0m                                 Traceback (most recent call last)",
      "Cell \u001b[1;32mIn[5], line 1\u001b[0m\n\u001b[1;32m----> 1\u001b[0m \u001b[43mbob\u001b[49m\u001b[38;5;241;43m.\u001b[39;49m\u001b[43mbuild\u001b[49m\u001b[43m(\u001b[49m\u001b[43mtask\u001b[49m\u001b[43m)\u001b[49m\n",
      "File \u001b[1;32mC:\\Privat\\0_Temporary_Download_from_OneDrive\\I do Valuable Work\\BuilderBot\\builderbot\\builderbot\\builderbot.py:30\u001b[0m, in \u001b[0;36mBuilderBot.build\u001b[1;34m(self, goal)\u001b[0m\n\u001b[0;32m     27\u001b[0m \u001b[38;5;28mself\u001b[39m\u001b[38;5;241m.\u001b[39mrun_manager\u001b[38;5;241m.\u001b[39mstart_run()\n\u001b[0;32m     29\u001b[0m \u001b[38;5;66;03m# Step 1: Understand\u001b[39;00m\n\u001b[1;32m---> 30\u001b[0m project_description \u001b[38;5;241m=\u001b[39m \u001b[43mget_thoughtful_reponse\u001b[49m\u001b[43m(\u001b[49m\n\u001b[0;32m     31\u001b[0m \u001b[43m    \u001b[49m\u001b[38;5;28;43mself\u001b[39;49m\u001b[38;5;241;43m.\u001b[39;49m\u001b[43mUNDERSTAND\u001b[49m\u001b[43m,\u001b[49m\n\u001b[0;32m     32\u001b[0m \u001b[43m    \u001b[49m\u001b[43mllm\u001b[49m\u001b[38;5;241;43m=\u001b[39;49m\u001b[38;5;28;43mself\u001b[39;49m\u001b[38;5;241;43m.\u001b[39;49m\u001b[43mllm\u001b[49m\u001b[43m,\u001b[49m\n\u001b[0;32m     33\u001b[0m \u001b[43m    \u001b[49m\u001b[43muser_goal\u001b[49m\u001b[38;5;241;43m=\u001b[39;49m\u001b[38;5;28;43mself\u001b[39;49m\u001b[38;5;241;43m.\u001b[39;49m\u001b[43mgoal\u001b[49m\u001b[43m,\u001b[49m\n\u001b[0;32m     34\u001b[0m \u001b[43m    \u001b[49m\u001b[43mformat_instructions\u001b[49m\u001b[38;5;241;43m=\u001b[39;49m\u001b[43mproject_description_parser\u001b[49m\u001b[38;5;241;43m.\u001b[39;49m\u001b[43mget_format_instructions\u001b[49m\u001b[43m(\u001b[49m\u001b[43m)\u001b[49m\n\u001b[0;32m     35\u001b[0m \u001b[43m                           \u001b[49m\u001b[43m)\u001b[49m\n\u001b[0;32m     36\u001b[0m parsed_project_description \u001b[38;5;241m=\u001b[39m project_description_parser\u001b[38;5;241m.\u001b[39mparse(project_description)\n\u001b[0;32m     37\u001b[0m \u001b[38;5;28mself\u001b[39m\u001b[38;5;241m.\u001b[39mrequirements \u001b[38;5;241m=\u001b[39m parsed_project_description\u001b[38;5;241m.\u001b[39mrequirements\n",
      "File \u001b[1;32mC:\\Privat\\0_Temporary_Download_from_OneDrive\\I do Valuable Work\\BuilderBot\\builderbot\\builderbot\\llm_inference.py:40\u001b[0m, in \u001b[0;36mget_thoughtful_reponse\u001b[1;34m(prompt_file, llm, verbose, save, save_intermediate, format_instructions, **prompt_vars)\u001b[0m\n\u001b[0;32m     38\u001b[0m initial_response \u001b[38;5;241m=\u001b[39m llm(get_prompt(prompt_file\u001b[38;5;241m+\u001b[39m\u001b[38;5;124m\"\u001b[39m\u001b[38;5;124m__ideate\u001b[39m\u001b[38;5;124m\"\u001b[39m, \u001b[38;5;241m*\u001b[39m\u001b[38;5;241m*\u001b[39mprompt_vars))\u001b[38;5;241m.\u001b[39mcontent\n\u001b[0;32m     39\u001b[0m \u001b[38;5;28;01mif\u001b[39;00m verbose: \u001b[38;5;28mprint\u001b[39m(\u001b[38;5;124mf\u001b[39m\u001b[38;5;124m\"\u001b[39m\u001b[38;5;124m> Initial response:\u001b[39m\u001b[38;5;130;01m\\n\u001b[39;00m\u001b[38;5;132;01m{\u001b[39;00minitial_response\u001b[38;5;132;01m}\u001b[39;00m\u001b[38;5;130;01m\\n\u001b[39;00m\u001b[38;5;124m\"\u001b[39m)    \n\u001b[1;32m---> 40\u001b[0m \u001b[38;5;28;01mif\u001b[39;00m save_intermediate: \u001b[43msave_llm_output\u001b[49m\u001b[43m(\u001b[49m\u001b[43minitial_response\u001b[49m\u001b[43m,\u001b[49m\u001b[43m \u001b[49m\u001b[43mphase\u001b[49m\u001b[38;5;241;43m=\u001b[39;49m\u001b[43mprompt_file\u001b[49m\u001b[43m,\u001b[49m\u001b[43m \u001b[49m\u001b[43mstage\u001b[49m\u001b[38;5;241;43m=\u001b[39;49m\u001b[38;5;124;43m\"\u001b[39;49m\u001b[38;5;124;43mideation\u001b[39;49m\u001b[38;5;124;43m\"\u001b[39;49m\u001b[43m)\u001b[49m\n\u001b[0;32m     42\u001b[0m \u001b[38;5;66;03m# Step 2: Self-critique\u001b[39;00m\n\u001b[0;32m     43\u001b[0m critique \u001b[38;5;241m=\u001b[39m llm(get_prompt(prompt_file\u001b[38;5;241m+\u001b[39m\u001b[38;5;124m\"\u001b[39m\u001b[38;5;124m__reflect\u001b[39m\u001b[38;5;124m\"\u001b[39m, initial_response\u001b[38;5;241m=\u001b[39minitial_response, \u001b[38;5;241m*\u001b[39m\u001b[38;5;241m*\u001b[39mprompt_vars))\u001b[38;5;241m.\u001b[39mcontent\n",
      "\u001b[1;31mTypeError\u001b[0m: save_llm_output() missing 1 required positional argument: 'run_manager'"
     ]
    }
   ],
   "source": [
    "bob.build(task)"
   ]
  },
  {
   "cell_type": "code",
   "execution_count": null,
   "id": "df991e54",
   "metadata": {},
   "outputs": [],
   "source": []
  },
  {
   "cell_type": "code",
   "execution_count": null,
   "id": "c5335a7d",
   "metadata": {},
   "outputs": [],
   "source": []
  },
  {
   "cell_type": "code",
   "execution_count": null,
   "id": "4fdcff83",
   "metadata": {},
   "outputs": [],
   "source": []
  },
  {
   "cell_type": "code",
   "execution_count": null,
   "id": "9f7cbe7b",
   "metadata": {},
   "outputs": [],
   "source": []
  },
  {
   "cell_type": "code",
   "execution_count": null,
   "id": "8cd1c59d",
   "metadata": {},
   "outputs": [],
   "source": []
  },
  {
   "cell_type": "code",
   "execution_count": null,
   "id": "f0952df2",
   "metadata": {},
   "outputs": [],
   "source": []
  },
  {
   "cell_type": "code",
   "execution_count": null,
   "id": "098aee32",
   "metadata": {},
   "outputs": [],
   "source": []
  },
  {
   "cell_type": "code",
   "execution_count": null,
   "id": "802426c1",
   "metadata": {},
   "outputs": [],
   "source": []
  },
  {
   "cell_type": "code",
   "execution_count": null,
   "id": "ed4e48a5",
   "metadata": {},
   "outputs": [],
   "source": []
  },
  {
   "cell_type": "code",
   "execution_count": null,
   "id": "e1481a71",
   "metadata": {},
   "outputs": [],
   "source": []
  },
  {
   "cell_type": "code",
   "execution_count": null,
   "id": "a8d57bde",
   "metadata": {},
   "outputs": [],
   "source": []
  },
  {
   "cell_type": "code",
   "execution_count": null,
   "id": "af57ab8e",
   "metadata": {},
   "outputs": [],
   "source": []
  },
  {
   "cell_type": "code",
   "execution_count": null,
   "id": "5a92a3af",
   "metadata": {},
   "outputs": [],
   "source": []
  },
  {
   "cell_type": "markdown",
   "id": "cad6b32b",
   "metadata": {},
   "source": [
    "### 1. Make detailed requirements list & ask clarifying questions"
   ]
  },
  {
   "cell_type": "code",
   "execution_count": null,
   "id": "c854b7a5",
   "metadata": {},
   "outputs": [],
   "source": [
    "# TODO: what if we have questions?"
   ]
  },
  {
   "cell_type": "code",
   "execution_count": null,
   "id": "6256c07c",
   "metadata": {},
   "outputs": [],
   "source": []
  },
  {
   "cell_type": "code",
   "execution_count": null,
   "id": "64df7946",
   "metadata": {},
   "outputs": [],
   "source": []
  },
  {
   "cell_type": "code",
   "execution_count": null,
   "id": "93f78f1a",
   "metadata": {},
   "outputs": [],
   "source": [
    "project_description = get_thoughtful_reponse(UNDERSTAND, user_goal=task)"
   ]
  },
  {
   "cell_type": "code",
   "execution_count": null,
   "id": "8fb3c67d",
   "metadata": {},
   "outputs": [],
   "source": []
  },
  {
   "cell_type": "markdown",
   "id": "2cbbeb8c",
   "metadata": {},
   "source": [
    "### 2. Decide on tech stack & architecture"
   ]
  },
  {
   "cell_type": "code",
   "execution_count": null,
   "id": "2af51977",
   "metadata": {},
   "outputs": [],
   "source": [
    "# todo: include description of replit auth + storage, as that simplifies architecture"
   ]
  },
  {
   "cell_type": "code",
   "execution_count": null,
   "id": "7e76b780",
   "metadata": {},
   "outputs": [],
   "source": [
    "architecture = get_thoughtful_reponse(ARCHITECTURE, project_description=project_description)"
   ]
  },
  {
   "cell_type": "code",
   "execution_count": null,
   "id": "241de742",
   "metadata": {},
   "outputs": [],
   "source": []
  },
  {
   "cell_type": "code",
   "execution_count": null,
   "id": "a990412c",
   "metadata": {},
   "outputs": [],
   "source": []
  },
  {
   "cell_type": "code",
   "execution_count": null,
   "id": "faf5a957",
   "metadata": {},
   "outputs": [],
   "source": []
  },
  {
   "cell_type": "markdown",
   "id": "2ebe433a",
   "metadata": {},
   "source": [
    "### 3. Create files & code skeleton (ie signatures of main function + short describtion)"
   ]
  },
  {
   "cell_type": "code",
   "execution_count": null,
   "id": "cdc52e2f",
   "metadata": {},
   "outputs": [],
   "source": []
  },
  {
   "cell_type": "code",
   "execution_count": null,
   "id": "b1645a49",
   "metadata": {},
   "outputs": [],
   "source": []
  },
  {
   "cell_type": "code",
   "execution_count": null,
   "id": "7a80e370",
   "metadata": {
    "scrolled": true
   },
   "outputs": [],
   "source": [
    "code_skeleton = get_thoughtful_reponse(\n",
    "    SKELETON_CODE,\n",
    "    project_description=project_description,\n",
    "    architecture=architecture,\n",
    "    format_instructions=code_file_parser.get_format_instructions()\n",
    ")"
   ]
  },
  {
   "cell_type": "code",
   "execution_count": null,
   "id": "c82c1a07",
   "metadata": {
    "scrolled": false
   },
   "outputs": [],
   "source": [
    "parsed_code_skeleton = code_file_parser.parse(code_skeleton)"
   ]
  },
  {
   "cell_type": "code",
   "execution_count": null,
   "id": "9f8c5684",
   "metadata": {},
   "outputs": [],
   "source": []
  },
  {
   "cell_type": "code",
   "execution_count": null,
   "id": "0d1e3d71",
   "metadata": {},
   "outputs": [],
   "source": [
    "create_project(parsed_code_skeleton, directory=\"project\")"
   ]
  },
  {
   "cell_type": "code",
   "execution_count": null,
   "id": "865534c9",
   "metadata": {},
   "outputs": [],
   "source": []
  },
  {
   "cell_type": "markdown",
   "id": "5eb19619",
   "metadata": {},
   "source": [
    "### 4. Create test files & define test cases"
   ]
  },
  {
   "cell_type": "code",
   "execution_count": null,
   "id": "a4704070",
   "metadata": {
    "scrolled": false
   },
   "outputs": [],
   "source": [
    "test_skeleton = get_thoughtful_reponse(\n",
    "    SKELETON_TEST,\n",
    "    project_description=project_description,\n",
    "    architecture=architecture,\n",
    "    format_instructions=code_file_parser.get_format_instructions()\n",
    ")"
   ]
  },
  {
   "cell_type": "code",
   "execution_count": null,
   "id": "6b271a08",
   "metadata": {},
   "outputs": [],
   "source": [
    "parsed_test_skeleton = code_file_parser.parse(test_skeleton)"
   ]
  },
  {
   "cell_type": "code",
   "execution_count": null,
   "id": "bd58818a",
   "metadata": {},
   "outputs": [],
   "source": [
    "create_project(parsed_test_skeleton, directory=\"test\")"
   ]
  },
  {
   "cell_type": "code",
   "execution_count": null,
   "id": "b75aec50",
   "metadata": {},
   "outputs": [],
   "source": []
  },
  {
   "cell_type": "code",
   "execution_count": null,
   "id": "32d06178",
   "metadata": {},
   "outputs": [],
   "source": []
  },
  {
   "cell_type": "code",
   "execution_count": null,
   "id": "e74d29d2",
   "metadata": {},
   "outputs": [],
   "source": []
  },
  {
   "cell_type": "markdown",
   "id": "b3c5a3d6",
   "metadata": {},
   "source": [
    "### 5./6./7. For each feature: Implement code & test at each step if it works // Write unit test & make sure they pass"
   ]
  },
  {
   "cell_type": "code",
   "execution_count": null,
   "id": "97f349f7",
   "metadata": {},
   "outputs": [],
   "source": [
    "# We need a list of features\n",
    "# For each feature, we need to implement\n",
    "\n",
    "# Implementation:\n",
    "# 1. get relevant context:\n",
    "# --- given all files & function signatures, determine which function content do read\n",
    "# 2. get modifications:\n",
    "# --- given all files & function signatures & relevant function contents, create a list of modifications\n",
    "# --- a modification is a a function w/ (new) content\n",
    "# 3. in loop: verify compilation (ie given modifications & compilaton result, create new modifications)\n",
    "# 4. write"
   ]
  },
  {
   "cell_type": "code",
   "execution_count": null,
   "id": "4ea51050",
   "metadata": {},
   "outputs": [],
   "source": []
  },
  {
   "cell_type": "code",
   "execution_count": null,
   "id": "6cc44833",
   "metadata": {},
   "outputs": [],
   "source": []
  },
  {
   "cell_type": "code",
   "execution_count": null,
   "id": "e28edded",
   "metadata": {},
   "outputs": [],
   "source": []
  },
  {
   "cell_type": "code",
   "execution_count": null,
   "id": "ea4b6b8e",
   "metadata": {},
   "outputs": [],
   "source": []
  },
  {
   "cell_type": "code",
   "execution_count": null,
   "id": "21cc7b65",
   "metadata": {},
   "outputs": [],
   "source": []
  },
  {
   "cell_type": "code",
   "execution_count": null,
   "id": "f39ed3f2",
   "metadata": {},
   "outputs": [],
   "source": []
  },
  {
   "cell_type": "markdown",
   "id": "e503c9e2",
   "metadata": {
    "heading_collapsed": true
   },
   "source": [
    "### 8. Write integration test"
   ]
  },
  {
   "cell_type": "code",
   "execution_count": null,
   "id": "ed6f255e",
   "metadata": {
    "hidden": true
   },
   "outputs": [],
   "source": []
  },
  {
   "cell_type": "code",
   "execution_count": null,
   "id": "b87385e0",
   "metadata": {
    "hidden": true
   },
   "outputs": [],
   "source": []
  },
  {
   "cell_type": "markdown",
   "id": "f9c4ba87",
   "metadata": {
    "heading_collapsed": true
   },
   "source": [
    "### 9. For each integration test: make sure they pass"
   ]
  },
  {
   "cell_type": "code",
   "execution_count": null,
   "id": "32442f6c",
   "metadata": {
    "hidden": true
   },
   "outputs": [],
   "source": []
  },
  {
   "cell_type": "code",
   "execution_count": null,
   "id": "02c6c58c",
   "metadata": {
    "hidden": true
   },
   "outputs": [],
   "source": []
  },
  {
   "cell_type": "markdown",
   "id": "642108de",
   "metadata": {
    "heading_collapsed": true
   },
   "source": [
    "### 10. Deploy"
   ]
  },
  {
   "cell_type": "code",
   "execution_count": null,
   "id": "980921de",
   "metadata": {
    "hidden": true
   },
   "outputs": [],
   "source": []
  },
  {
   "cell_type": "code",
   "execution_count": null,
   "id": "e8b77269",
   "metadata": {
    "hidden": true
   },
   "outputs": [],
   "source": []
  },
  {
   "cell_type": "markdown",
   "id": "7db7f866",
   "metadata": {},
   "source": [
    "### Footer"
   ]
  },
  {
   "cell_type": "code",
   "execution_count": null,
   "id": "35c6d4cb",
   "metadata": {},
   "outputs": [],
   "source": []
  },
  {
   "cell_type": "code",
   "execution_count": null,
   "id": "f4a2bee7",
   "metadata": {},
   "outputs": [],
   "source": []
  }
 ],
 "metadata": {
  "kernelspec": {
   "display_name": "Python 3 (ipykernel)",
   "language": "python",
   "name": "python3"
  },
  "language_info": {
   "codemirror_mode": {
    "name": "ipython",
    "version": 3
   },
   "file_extension": ".py",
   "mimetype": "text/x-python",
   "name": "python",
   "nbconvert_exporter": "python",
   "pygments_lexer": "ipython3",
   "version": "3.11.0"
  }
 },
 "nbformat": 4,
 "nbformat_minor": 5
}
