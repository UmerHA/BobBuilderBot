{
 "cells": [
  {
   "cell_type": "code",
   "execution_count": 1,
   "id": "cd78dfd9",
   "metadata": {},
   "outputs": [],
   "source": [
    "import os\n",
    "import datetime\n",
    "import pandas as pd\n",
    "from dotenv import load_dotenv\n",
    "load_dotenv()\n",
    "openai_api_key = os.getenv(\"OPENAI_API_KEY\")"
   ]
  },
  {
   "cell_type": "code",
   "execution_count": 2,
   "id": "5c91ee35",
   "metadata": {},
   "outputs": [],
   "source": [
    "from typing import List, Optional"
   ]
  },
  {
   "cell_type": "code",
   "execution_count": null,
   "id": "64b37b06",
   "metadata": {},
   "outputs": [],
   "source": []
  },
  {
   "cell_type": "code",
   "execution_count": 3,
   "id": "b173fe6c",
   "metadata": {},
   "outputs": [],
   "source": [
    "from langchain.chat_models import ChatOpenAI\n",
    "llm = ChatOpenAI(openai_api_key=openai_api_key, model_name=\"gpt-4\") #model_name=\"gpt-3.5-turbo\")"
   ]
  },
  {
   "cell_type": "code",
   "execution_count": null,
   "id": "ec191296",
   "metadata": {},
   "outputs": [],
   "source": []
  },
  {
   "cell_type": "code",
   "execution_count": 4,
   "id": "6ddc1a55",
   "metadata": {},
   "outputs": [],
   "source": [
    "task = \"I want a website where I can track my weight\""
   ]
  },
  {
   "cell_type": "code",
   "execution_count": 5,
   "id": "a4c02069",
   "metadata": {},
   "outputs": [],
   "source": [
    "# 1. Make detailed requirements list & ask clarifying questions\n",
    "# 2. Decide on tech stack & architecture\n",
    "# 3. Create files & code skeleton (ie signatures of main function + short describtion)\n",
    "# 4. Create test files & define test cases\n",
    "# 5. For each feature:\n",
    "# 6. -- Implement code & test at each step if it works\n",
    "# 7. -- Write unit test & make sure they pass\n",
    "# 8. Write integration test\n",
    "# 9. For each integration test: make sure they pass\n",
    "# 10. Deploy\n",
    "# ---\n",
    "# 11. Ask for user feedback (\"Is this exactly how you want it? Can I make it any better for you?\")"
   ]
  },
  {
   "cell_type": "code",
   "execution_count": null,
   "id": "ba8aef7a",
   "metadata": {},
   "outputs": [],
   "source": []
  },
  {
   "cell_type": "code",
   "execution_count": null,
   "id": "a9a082fa",
   "metadata": {},
   "outputs": [],
   "source": []
  },
  {
   "cell_type": "code",
   "execution_count": 6,
   "id": "9b3e8099",
   "metadata": {
    "code_folding": [
     0
    ]
   },
   "outputs": [],
   "source": [
    "class RunManager():\n",
    "    file = \"runs.txt\"\n",
    "\n",
    "    def __init__(self):\n",
    "        if os.path.exists(self.file):\n",
    "            self.runs = pd.read_csv(self.file)\n",
    "        else:\n",
    "            self.runs = pd.DataFrame(columns=[\"run_no\", \"time\"])\n",
    "            self.save()\n",
    "\n",
    "    @property\n",
    "    def run_no(self):\n",
    "        return 0 if self.runs.empty else self.runs.run_no.max()\n",
    "\n",
    "    def start_run(self):\n",
    "        now = datetime.datetime.now().strftime(\"%Y-%m-%dT%H-%M\")\n",
    "        self.runs.loc[len(self.runs)] = {\"run_no\": self.run_no+1, \"time\": now}\n",
    "        self.save()\n",
    "\n",
    "    def save(self):\n",
    "        self.runs.to_csv(self.file, index=False)"
   ]
  },
  {
   "cell_type": "code",
   "execution_count": 7,
   "id": "c5d80049",
   "metadata": {},
   "outputs": [],
   "source": [
    "run_manager = RunManager()\n",
    "run_manager.start_run()"
   ]
  },
  {
   "cell_type": "code",
   "execution_count": null,
   "id": "dc22c41d",
   "metadata": {},
   "outputs": [],
   "source": []
  },
  {
   "cell_type": "code",
   "execution_count": 8,
   "id": "44fce1b5",
   "metadata": {},
   "outputs": [],
   "source": [
    "# prompt files for easier access\n",
    "UNDERSTAND = \"1_understand_requirement\"\n",
    "ARCHITECTURE = \"2_choose_architecture\"\n",
    "SKELETON = \"3_create_skeleton\"\n",
    "\n",
    "# short names for logging\n",
    "phase_names_for_logging = {\n",
    "    UNDERSTAND: \"1_understand\",\n",
    "    ARCHITECTURE: \"2_architecture\",\n",
    "    SKELETON: \"3_skeleton\",\n",
    "}"
   ]
  },
  {
   "cell_type": "code",
   "execution_count": null,
   "id": "55a33741",
   "metadata": {},
   "outputs": [],
   "source": []
  },
  {
   "cell_type": "code",
   "execution_count": 9,
   "id": "808c0656",
   "metadata": {},
   "outputs": [],
   "source": [
    "from langchain.output_parsers import PydanticOutputParser\n",
    "from pydantic import BaseModel, Field, validator"
   ]
  },
  {
   "cell_type": "code",
   "execution_count": null,
   "id": "5ec49ae6",
   "metadata": {},
   "outputs": [],
   "source": []
  },
  {
   "cell_type": "code",
   "execution_count": 10,
   "id": "80e93505",
   "metadata": {},
   "outputs": [],
   "source": [
    "from langchain.prompts import ChatPromptTemplate, HumanMessagePromptTemplate\n",
    "from langchain.schema import HumanMessage, BaseMessage\n",
    "\n",
    "def load_prompt(prompt_file: str) -> ChatPromptTemplate:\n",
    "    path_to_prompt = f\"prompts/{prompt_file}.txt\"\n",
    "    with open(path_to_prompt, \"r\") as file:\n",
    "        file_contents = file.read()\n",
    "    # todo: use system msg \n",
    "    human_msg = HumanMessagePromptTemplate.from_template(file_contents)\n",
    "    return ChatPromptTemplate.from_messages([human_msg])\n",
    "\n",
    "def get_prompt(prompt_file: str, **prompt_vars) -> List[BaseMessage]:\n",
    "    prompt_template = load_prompt(prompt_file)\n",
    "    return prompt_template.format_prompt(**prompt_vars).to_messages()"
   ]
  },
  {
   "cell_type": "code",
   "execution_count": 11,
   "id": "2d0d752c",
   "metadata": {},
   "outputs": [],
   "source": [
    "stage_for_logging = {\n",
    "    \"ideation\": \"__a_initial\",\n",
    "    \"critique\": \"__b_critique\",\n",
    "    \"resolution\": \"\"\n",
    "}\n",
    "def save_llm_output(content, phase, stage):\n",
    "    filename = f\"cache/run_{run_manager.run_no}__{phase_names_for_logging[phase]}{stage_for_logging[stage]}.txt\"\n",
    "    with open(filename, \"w\") as file:\n",
    "            file.write(content)\n",
    "\n",
    "def get_thoughtful_reponse(prompt_file: str, verbose=True, save=True, save_intermediate=True, format_instructions=None, **prompt_vars) -> str:\n",
    "    # Step 1: Initial response\n",
    "    initial_response = llm(get_prompt(prompt_file, **prompt_vars)).content\n",
    "    if verbose: print(f\"> Initial response:\\n{initial_response}\\n\")    \n",
    "    if save_intermediate: save_llm_output(initial_response, phase=prompt_file, stage=\"ideation\")\n",
    "        \n",
    "    # Step 2: Self-critique\n",
    "    critique = llm(get_prompt(prompt_file+\"__reflect\", initial_response=initial_response, **prompt_vars)).content\n",
    "    if verbose: print(f\"> Self-critique:\\n{critique}\\n\")\n",
    "    if save_intermediate: save_llm_output(critique, phase=prompt_file, stage=\"critique\")\n",
    "    \n",
    "    # Step 3: Thoughtful response\n",
    "    if format_instructions: prompt_vars[\"format_instructions\"] = format_instructions  # only use format instructions in last step\n",
    "    thoughtful_response = llm(get_prompt(prompt_file+\"__resolve\", initial_response=initial_response, critique=critique, **prompt_vars)).content\n",
    "    if verbose: print(f\"> Thoughtful response:\\n{thoughtful_response}\\n\")\n",
    "    if save: save_llm_output(thoughtful_response, phase=prompt_file, stage=\"resolution\")\n",
    "    \n",
    "    return thoughtful_response"
   ]
  },
  {
   "cell_type": "code",
   "execution_count": null,
   "id": "50588d88",
   "metadata": {},
   "outputs": [],
   "source": []
  },
  {
   "cell_type": "markdown",
   "id": "cad6b32b",
   "metadata": {},
   "source": [
    "### 1. Make detailed requirements list & ask clarifying questions"
   ]
  },
  {
   "cell_type": "code",
   "execution_count": 12,
   "id": "c854b7a5",
   "metadata": {},
   "outputs": [],
   "source": [
    "# TODO: what if we have questions?"
   ]
  },
  {
   "cell_type": "code",
   "execution_count": 13,
   "id": "93f78f1a",
   "metadata": {},
   "outputs": [
    {
     "name": "stdout",
     "output_type": "stream",
     "text": [
      "> Initial response:\n",
      "The user's goal is to have a website to track their weight over time.\n",
      "\n",
      "Therefore, the user needs:\n",
      "- A registration and login system, so the data is personalized and secure\n",
      "- A profile page where the user can input and edit their personal information (name, age, gender, height)\n",
      "- A dashboard where the user can input their daily weight and view a chart of their weight progress over time\n",
      "- The ability to set weight goals, such as target weight or rate of weight loss/gain\n",
      "- Notifications or reminders to input daily weight, if the user chooses to enable them\n",
      "- A responsive design that works on both desktop and mobile devices\n",
      "\n",
      "In this, I have made the following assumptions:\n",
      "- The user has access to a reliable internet connection\n",
      "- The user is comfortable with providing personal information for the purpose of tracking their weight\n",
      "- The user's primary motivation for using the website is to track their weight, not to receive additional health advice or recommendations\n",
      "\n",
      "I have these questions to the user:\n",
      "- Are there any specific features or functionality you would like to see in the website that were not mentioned in the initial objective?\n",
      "- Would you like the ability to export your weight data to an external file (e.g. CSV, Excel) for further analysis or sharing with healthcare providers?\n",
      "- Do you have any preferences regarding the visual design or user interface of the website?\n",
      "\n",
      "> Self-critique:\n",
      "[Begin of format description]\n",
      "1) Yes, the project description matches the user goal of having a website to track their weight over time.\n",
      "\n",
      "2) Yes, we have all the functionality we need.\n",
      "\n",
      "3) The assumptions made are reasonable:\n",
      "   - The user has access to a reliable internet connection\n",
      "   - The user is comfortable with providing personal information for the purpose of tracking their weight\n",
      "   - The user's primary motivation for using the website is to track their weight, not to receive additional health advice or recommendations\n",
      "\n",
      "4) The questions asked are necessary and cover important aspects:\n",
      "   - Are there any specific features or functionality you would like to see in the website that were not mentioned in the initial objective?\n",
      "   - Would you like the ability to export your weight data to an external file (e.g. CSV, Excel) for further analysis or sharing with healthcare providers?\n",
      "   - Do you have any preferences regarding the visual design or user interface of the website?\n",
      "[End of format description]\n",
      "\n",
      "> Thoughtful response:\n",
      "[Begin of project description]\n",
      "The user's goal is to have a website to track their weight over time.\n",
      "\n",
      "Therefore, the user needs:\n",
      "- A registration and login system, so the data is personalized and secure\n",
      "- A profile page where the user can input and edit their personal information (name, age, gender, height)\n",
      "- A dashboard where the user can input their daily weight, view a chart of their weight progress over time, and set weight goals (such as target weight or rate of weight loss/gain)\n",
      "- The ability to export weight data to an external file (e.g. CSV, Excel) for further analysis or sharing with healthcare providers\n",
      "- Notifications or reminders to input daily weight, if the user chooses to enable them\n",
      "- A responsive design that works on both desktop and mobile devices\n",
      "\n",
      "In this, I have made the following assumptions:\n",
      "- The user has access to a reliable internet connection\n",
      "- The user is comfortable with providing personal information for the purpose of tracking their weight\n",
      "- The user's primary motivation for using the website is to track their weight, not to receive additional health advice or recommendations\n",
      "\n",
      "I have these questions to the user:\n",
      "- Are there any specific features or functionality you would like to see in the website that were not mentioned in the initial objective?\n",
      "- Do you have any preferences regarding the visual design or user interface of the website?\n",
      "[End of project description]\n",
      "\n"
     ]
    }
   ],
   "source": [
    "project_description = get_thoughtful_reponse(UNDERSTAND, user_goal=task, save_to=\"1_understand\")"
   ]
  },
  {
   "cell_type": "code",
   "execution_count": null,
   "id": "8fb3c67d",
   "metadata": {},
   "outputs": [],
   "source": []
  },
  {
   "cell_type": "markdown",
   "id": "2cbbeb8c",
   "metadata": {},
   "source": [
    "### 2. Decide on tech stack & architecture"
   ]
  },
  {
   "cell_type": "code",
   "execution_count": 14,
   "id": "2af51977",
   "metadata": {},
   "outputs": [],
   "source": [
    "# todo: include description of replit auth + storage, as that simplifies architecture"
   ]
  },
  {
   "cell_type": "code",
   "execution_count": 15,
   "id": "7e76b780",
   "metadata": {},
   "outputs": [
    {
     "name": "stdout",
     "output_type": "stream",
     "text": [
      "> Initial response:\n",
      "(i) Architecture\n",
      "\n",
      "For this project, a simple yet effective architecture would be the Model-View-Controller (MVC) architecture. The MVC architecture would allow us to separate our concerns easily, manage the code efficiently, and scale the application if needed in the future.\n",
      "\n",
      "1. Model: Represents the data and the business logic of the application. In this case, it will include the user's personal information, weight data, and weight goals.\n",
      "2. View: Represents the user interface and the presentation of the data. It will include the registration/login, profile, and dashboard pages.\n",
      "3. Controller: Handles user input and updates the model and view accordingly. It will manage user authentication, data input, data retrieval, and data export.\n",
      "\n",
      "(ii) Tech Stack\n",
      "\n",
      "Backend:\n",
      "1. Language: Python, due to its versatility and ease of use.\n",
      "2. Framework: Django, a robust and easy-to-use Python web framework that follows the MVC architecture.\n",
      "3. Database: PostgreSQL, a powerful and scalable open-source relational database.\n",
      "\n",
      "Frontend:\n",
      "1. HTML, CSS, and JavaScript for building the user interface.\n",
      "2. Bootstrap, a popular CSS framework, to achieve a responsive design that works on both desktop and mobile devices.\n",
      "3. Chart.js or D3.js for creating interactive weight progress charts.\n",
      "\n",
      "Authentication:\n",
      "1. Django's built-in authentication system for handling user registration and login.\n",
      "\n",
      "APIs and Libraries:\n",
      "1. Django REST framework for creating RESTful APIs, in case we need to expose the data to external applications or for future expansion.\n",
      "2. Pandas (Python library) for handling data export to CSV or Excel files.\n",
      "\n",
      "Notifications:\n",
      "1. A third-party service like Firebase Cloud Messaging (FCM) or OneSignal for sending push notifications or reminders to the user.\n",
      "\n",
      "Version Control and Deployment:\n",
      "1. Git for version control.\n",
      "2. A hosting service like Heroku or a cloud provider like AWS, Google Cloud, or Microsoft Azure for deploying the application.\n",
      "\n",
      "By using this architecture and tech stack, we can efficiently build a website that meets the user's goals while keeping it simple and scalable.\n",
      "\n",
      "> Self-critique:\n",
      "Yes, the proposed architecture and tech stack are appropriate for the project goals. Here's why:\n",
      "\n",
      "1. The Model-View-Controller (MVC) architecture is a proven design pattern that promotes separation of concerns, making it easier to maintain and extend the application in the future. It fits well with the user's requirements, as each component (model, view, and controller) can be mapped to specific parts of the application (data management, user interface, and control flow).\n",
      "\n",
      "2. The backend choices (Python, Django, and PostgreSQL) are well suited for this project. Python is a versatile language with a large ecosystem and community support. Django is a powerful web framework that follows the MVC architecture and offers built-in support for user authentication, which simplifies the development process. PostgreSQL is a reliable and scalable open-source database that can handle the expected data requirements.\n",
      "\n",
      "3. The frontend choices (HTML, CSS, JavaScript, Bootstrap, and Chart.js/D3.js) are appropriate for building a responsive and interactive user interface. Bootstrap ensures that the design will work well on both desktop and mobile devices, while Chart.js or D3.js can be used to create visually appealing weight progress charts.\n",
      "\n",
      "4. Django's built-in authentication system will streamline user registration and login processes, ensuring data security and personalization.\n",
      "\n",
      "5. The use of Django REST framework, Pandas, and third-party notification services (Firebase Cloud Messaging or OneSignal) demonstrates foresight for potential future expansions, such as exposing APIs, handling data exports, and sending notifications.\n",
      "\n",
      "6. Proper version control (Git) and deployment options (Heroku, AWS, Google Cloud, or Microsoft Azure) ensure that the application can be easily maintained and updated.\n",
      "\n",
      "Overall, the proposed architecture and tech stack are well-suited for the project requirements and provide a solid foundation for building a scalable and efficient website that meets the user's goals.\n",
      "\n"
     ]
    },
    {
     "name": "stderr",
     "output_type": "stream",
     "text": [
      "Retrying langchain.chat_models.openai.ChatOpenAI.completion_with_retry.<locals>._completion_with_retry in 1.0 seconds as it raised APIError: The server had an error while processing your request. Sorry about that! {\n",
      "  \"error\": {\n",
      "    \"message\": \"The server had an error while processing your request. Sorry about that!\",\n",
      "    \"type\": \"server_error\",\n",
      "    \"param\": null,\n",
      "    \"code\": null\n",
      "  }\n",
      "}\n",
      " 500 {'error': {'message': 'The server had an error while processing your request. Sorry about that!', 'type': 'server_error', 'param': None, 'code': None}} {'Date': 'Thu, 08 Jun 2023 17:19:45 GMT', 'Content-Type': 'application/json', 'Content-Length': '176', 'Connection': 'keep-alive', 'access-control-allow-origin': '*', 'openai-model': 'gpt-4-0314', 'openai-organization': 'user-y6xsbu6zlupjxqpx8sdyagib', 'openai-processing-ms': '565', 'openai-version': '2020-10-01', 'strict-transport-security': 'max-age=15724800; includeSubDomains', 'x-ratelimit-limit-requests': '200', 'x-ratelimit-limit-tokens': '40000', 'x-ratelimit-remaining-requests': '199', 'x-ratelimit-remaining-tokens': '38429', 'x-ratelimit-reset-requests': '300ms', 'x-ratelimit-reset-tokens': '2.356s', 'x-request-id': '4245e8bb1de4d0ef0f4c3d06fad154ba', 'CF-Cache-Status': 'DYNAMIC', 'Server': 'cloudflare', 'CF-RAY': '7d42cd2e4dd37a5a-DUS', 'alt-svc': 'h3=\":443\"; ma=86400'}.\n"
     ]
    },
    {
     "name": "stdout",
     "output_type": "stream",
     "text": [
      "> Thoughtful response:\n",
      "An appropriate architecture and tech stack for this project is as follows:\n",
      "\n",
      "(i) Architecture: Model-View-Controller (MVC) architecture, allowing for efficient separation of concerns, code management, and scalability.\n",
      "\n",
      "(ii) Tech Stack:\n",
      "\n",
      "Backend:\n",
      "1. Language: Python, for its versatility and ease of use.\n",
      "2. Framework: Django, a robust Python web framework that follows the MVC architecture and includes built-in authentication support.\n",
      "3. Database: PostgreSQL, a powerful and scalable open-source relational database.\n",
      "\n",
      "Frontend:\n",
      "1. HTML, CSS, and JavaScript for building the user interface.\n",
      "2. Bootstrap, for achieving a responsive design that works on both desktop and mobile devices.\n",
      "3. Chart.js for creating interactive weight progress charts.\n",
      "\n",
      "Authentication:\n",
      "1. Django's built-in authentication system.\n",
      "\n",
      "APIs and Libraries:\n",
      "1. Django REST framework for creating RESTful APIs if needed.\n",
      "2. Pandas (Python library) for handling data export to CSV or Excel files.\n",
      "\n",
      "Notifications:\n",
      "1. Firebase Cloud Messaging (FCM) for sending push notifications or reminders to the user.\n",
      "\n",
      "Version Control and Deployment:\n",
      "1. Git for version control.\n",
      "2. Hosting service: Heroku for deploying the application.\n",
      "\n",
      "This architecture and tech stack provide a solid foundation for building a scalable and efficient website that meets the user's goals while keeping it simple and maintainable.\n",
      "\n"
     ]
    }
   ],
   "source": [
    "architecture = get_thoughtful_reponse(ARCHITECTURE, project_description=project_description, save_to=\"2_architecture\")"
   ]
  },
  {
   "cell_type": "code",
   "execution_count": null,
   "id": "241de742",
   "metadata": {},
   "outputs": [],
   "source": []
  },
  {
   "cell_type": "code",
   "execution_count": null,
   "id": "a990412c",
   "metadata": {},
   "outputs": [],
   "source": []
  },
  {
   "cell_type": "code",
   "execution_count": null,
   "id": "faf5a957",
   "metadata": {},
   "outputs": [],
   "source": []
  },
  {
   "cell_type": "markdown",
   "id": "2ebe433a",
   "metadata": {},
   "source": [
    "### 3. Create files & code skeleton (ie signatures of main function + short describtion)"
   ]
  },
  {
   "cell_type": "code",
   "execution_count": 16,
   "id": "67993b85",
   "metadata": {},
   "outputs": [],
   "source": [
    "class Function(BaseModel):\n",
    "    name: str = Field(description=\"name of function\")\n",
    "    signature: str = Field(description=\"signature of function\")\n",
    "class CodeFile(BaseModel):\n",
    "    name: str = Field(description=\"full path to this file\")\n",
    "    description: str = Field(description=\"what does the code in this file do?\")\n",
    "    functions: Optional[List[Function]] = Field(description=\"functions in this file\")    \n",
    "class CodeBase(BaseModel):\n",
    "    code_files: List[CodeFile] = Field(description=\"a code file\")\n",
    "code_file_parser = PydanticOutputParser(pydantic_object=CodeBase)"
   ]
  },
  {
   "cell_type": "code",
   "execution_count": null,
   "id": "9df5f8db",
   "metadata": {},
   "outputs": [],
   "source": []
  },
  {
   "cell_type": "code",
   "execution_count": 17,
   "id": "7a80e370",
   "metadata": {
    "scrolled": false
   },
   "outputs": [
    {
     "name": "stdout",
     "output_type": "stream",
     "text": [
      "> Initial response:\n",
      "1. `models.py` - Contains the database models for the user profile, weight data, and weight goals.\n",
      "\n",
      "   Functions:\n",
      "   - `class UserProfile(models.Model):` - Represents the user profile with personal information.\n",
      "   - `class WeightData(models.Model):` - Represents the daily weight data input by the user.\n",
      "   - `class WeightGoal(models.Model):` - Represents the user's weight goals (target weight or rate of weight loss/gain).\n",
      "\n",
      "2. `views.py` - Contains the view functions that handle HTTP requests and responses.\n",
      "\n",
      "   Functions:\n",
      "   - `def register(request):` - Handles user registration.\n",
      "   - `def login(request):` - Handles user login.\n",
      "   - `def logout(request):` - Handles user logout.\n",
      "   - `def profile(request):` - Renders the user profile page.\n",
      "   - `def edit_profile(request):` - Handles editing the user profile information.\n",
      "   - `def dashboard(request):` - Renders the dashboard page with weight progress chart and goals.\n",
      "   - `def add_weight_data(request):` - Handles adding daily weight data.\n",
      "   - `def update_weight_data(request):` - Handles updating existing weight data.\n",
      "   - `def delete_weight_data(request):` - Handles deleting weight data.\n",
      "   - `def add_weight_goal(request):` - Handles adding weight goals.\n",
      "   - `def update_weight_goal(request):` - Handles updating existing weight goals.\n",
      "   - `def delete_weight_goal(request):` - Handles deleting weight goals.\n",
      "   - `def export_weight_data(request):` - Handles exporting weight data to CSV or Excel files.\n",
      "\n",
      "3. `urls.py` - Contains the URL patterns for the application.\n",
      "\n",
      "   Functions:\n",
      "   - `urlpatterns = [...]` - Defines the URL patterns and maps them to the corresponding view functions.\n",
      "\n",
      "4. `forms.py` - Contains the Django forms for user registration, profile editing, and weight data/goal input.\n",
      "\n",
      "   Functions:\n",
      "   - `class UserRegistrationForm(forms.ModelForm):` - Handles user registration form.\n",
      "   - `class UserProfileForm(forms.ModelForm):` - Handles user profile editing form.\n",
      "   - `class WeightDataForm(forms.ModelForm):` - Handles weight data input form.\n",
      "   - `class WeightGoalForm(forms.ModelForm):` - Handles weight goal input form.\n",
      "\n",
      "5. `templates/` - Contains the HTML templates for each page.\n",
      "\n",
      "   - `base.html` - The base template that includes common elements like the header and footer.\n",
      "   - `register.html` - The user registration page.\n",
      "   - `login.html` - The user login page.\n",
      "   - `profile.html` - The user profile page.\n",
      "   - `edit_profile.html` - The user profile editing page.\n",
      "   - `dashboard.html` - The user dashboard with weight progress chart and goals.\n",
      "\n",
      "6. `static/` - Contains static files for the application, such as CSS, JavaScript, and images.\n",
      "\n",
      "   - `css/style.css` - Contains the custom CSS for the application.\n",
      "   - `js/main.js` - Contains the custom JavaScript for the application, including AJAX requests and Chart.js integration.\n",
      "   - `images/` - Contains any images used in the application.\n",
      "\n",
      "7. `notifications.py` - Handles the Firebase Cloud Messaging (FCM) integration for sending push notifications.\n",
      "\n",
      "   Functions:\n",
      "   - `def send_weight_reminder(user):` - Sends a reminder to the user to input their daily weight.\n",
      "\n",
      "8. `utils.py` - Contains utility functions for the application, such as data export.\n",
      "\n",
      "   Functions:\n",
      "   - `def export_weight_data_to_csv(weight_data):` - Exports the user's weight data to a CSV file.\n",
      "   - `def export_weight_data_to_excel(weight_data):` - Exports the user's weight data to an Excel file.\n",
      "\n",
      "> Self-critique:\n",
      "After reflecting on the initial thoughts, the functionality appears appropriate and well-written. The high-level descriptions provide clear guidance for junior developers to implement the required features. However, there are a few additional considerations:\n",
      "\n",
      "1. Error handling and validation should be added to the views and forms to handle incorrect user input or other issues that may arise during the execution of the functions.\n",
      "\n",
      "2. For the `WeightData` and `WeightGoal` models, consider adding a ForeignKey relationship to the `UserProfile` model to associate the data with a specific user.\n",
      "\n",
      "3. To improve user experience, consider adding a date range filter to the dashboard, allowing users to view their weight progress within a specified time frame.\n",
      "\n",
      "4. In the `utils.py` file, add appropriate exception handling for cases where the data export fails due to file system issues or other unexpected errors.\n",
      "\n",
      "5. Consider implementing unit tests and integration tests to ensure the functionality is working as expected and to catch any potential issues during development.\n",
      "\n",
      "6. Add proper documentation and comments to the code to help other developers understand the functionality and purpose of each function and class.\n",
      "\n",
      "With these additional considerations, the proposed architecture, tech stack, and high-level functionality should provide a solid foundation for building a fully functional and maintainable weight tracking website.\n",
      "\n",
      "> Thoughtful response:\n",
      "{\n",
      "  \"code_files\": [\n",
      "    {\n",
      "      \"name\": \"models.py\",\n",
      "      \"description\": \"Contains the database models for the user profile, weight data, and weight goals.\",\n",
      "      \"functions\": [\n",
      "        {\n",
      "          \"name\": \"UserProfile\",\n",
      "          \"signature\": \"class UserProfile(models.Model):\"\n",
      "        },\n",
      "        {\n",
      "          \"name\": \"WeightData\",\n",
      "          \"signature\": \"class WeightData(models.Model):\"\n",
      "        },\n",
      "        {\n",
      "          \"name\": \"WeightGoal\",\n",
      "          \"signature\": \"class WeightGoal(models.Model):\"\n",
      "        }\n",
      "      ]\n",
      "    },\n",
      "    {\n",
      "      \"name\": \"views.py\",\n",
      "      \"description\": \"Contains the view functions that handle HTTP requests and responses.\",\n",
      "      \"functions\": [\n",
      "        {\n",
      "          \"name\": \"register\",\n",
      "          \"signature\": \"def register(request):\"\n",
      "        },\n",
      "        {\n",
      "          \"name\": \"login\",\n",
      "          \"signature\": \"def login(request):\"\n",
      "        },\n",
      "        {\n",
      "          \"name\": \"logout\",\n",
      "          \"signature\": \"def logout(request):\"\n",
      "        },\n",
      "        {\n",
      "          \"name\": \"profile\",\n",
      "          \"signature\": \"def profile(request):\"\n",
      "        },\n",
      "        {\n",
      "          \"name\": \"edit_profile\",\n",
      "          \"signature\": \"def edit_profile(request):\"\n",
      "        },\n",
      "        {\n",
      "          \"name\": \"dashboard\",\n",
      "          \"signature\": \"def dashboard(request):\"\n",
      "        },\n",
      "        {\n",
      "          \"name\": \"add_weight_data\",\n",
      "          \"signature\": \"def add_weight_data(request):\"\n",
      "        },\n",
      "        {\n",
      "          \"name\": \"update_weight_data\",\n",
      "          \"signature\": \"def update_weight_data(request):\"\n",
      "        },\n",
      "        {\n",
      "          \"name\": \"delete_weight_data\",\n",
      "          \"signature\": \"def delete_weight_data(request):\"\n",
      "        },\n",
      "        {\n",
      "          \"name\": \"add_weight_goal\",\n",
      "          \"signature\": \"def add_weight_goal(request):\"\n",
      "        },\n",
      "        {\n",
      "          \"name\": \"update_weight_goal\",\n",
      "          \"signature\": \"def update_weight_goal(request):\"\n",
      "        },\n",
      "        {\n",
      "          \"name\": \"delete_weight_goal\",\n",
      "          \"signature\": \"def delete_weight_goal(request):\"\n",
      "        },\n",
      "        {\n",
      "          \"name\": \"export_weight_data\",\n",
      "          \"signature\": \"def export_weight_data(request):\"\n",
      "        }\n",
      "      ]\n",
      "    },\n",
      "    {\n",
      "      \"name\": \"urls.py\",\n",
      "      \"description\": \"Contains the URL patterns for the application.\",\n",
      "      \"functions\": [\n",
      "        {\n",
      "          \"name\": \"urlpatterns\",\n",
      "          \"signature\": \"urlpatterns = [...]\"\n",
      "        }\n",
      "      ]\n",
      "    },\n",
      "    {\n",
      "      \"name\": \"forms.py\",\n",
      "      \"description\": \"Contains the Django forms for user registration, profile editing, and weight data/goal input.\",\n",
      "      \"functions\": [\n",
      "        {\n",
      "          \"name\": \"UserRegistrationForm\",\n",
      "          \"signature\": \"class UserRegistrationForm(forms.ModelForm):\"\n",
      "        },\n",
      "        {\n",
      "          \"name\": \"UserProfileForm\",\n",
      "          \"signature\": \"class UserProfileForm(forms.ModelForm):\"\n",
      "        },\n",
      "        {\n",
      "          \"name\": \"WeightDataForm\",\n",
      "          \"signature\": \"class WeightDataForm(forms.ModelForm):\"\n",
      "        },\n",
      "        {\n",
      "          \"name\": \"WeightGoalForm\",\n",
      "          \"signature\": \"class WeightGoalForm(forms.ModelForm):\"\n",
      "        }\n",
      "      ]\n",
      "    },\n",
      "    {\n",
      "      \"name\": \"notifications.py\",\n",
      "      \"description\": \"Handles the Firebase Cloud Messaging (FCM) integration for sending push notifications.\",\n",
      "      \"functions\": [\n",
      "        {\n",
      "          \"name\": \"send_weight_reminder\",\n",
      "          \"signature\": \"def send_weight_reminder(user):\"\n",
      "        }\n",
      "      ]\n",
      "    },\n",
      "    {\n",
      "      \"name\": \"utils.py\",\n",
      "      \"description\": \"Contains utility functions for the application, such as data export.\",\n",
      "      \"functions\": [\n",
      "        {\n",
      "          \"name\": \"export_weight_data_to_csv\",\n",
      "          \"signature\": \"def export_weight_data_to_csv(weight_data):\"\n",
      "        },\n",
      "        {\n",
      "          \"name\": \"export_weight_data_to_excel\",\n",
      "          \"signature\": \"def export_weight_data_to_excel(weight_data):\"\n",
      "        }\n",
      "      ]\n",
      "    }\n",
      "  ]\n",
      "}\n",
      "\n"
     ]
    }
   ],
   "source": [
    "skeleton = get_thoughtful_reponse(\n",
    "    SKELETON,\n",
    "    project_description=project_description,\n",
    "    architecture=architecture,\n",
    "    format_instructions=code_file_parser.get_format_instructions(),\n",
    "    save_to=\"3_skeleton\"\n",
    ")"
   ]
  },
  {
   "cell_type": "code",
   "execution_count": 18,
   "id": "c82c1a07",
   "metadata": {
    "scrolled": false
   },
   "outputs": [],
   "source": [
    "parsed_skeleton = code_file_parser.parse(skeleton)"
   ]
  },
  {
   "cell_type": "code",
   "execution_count": null,
   "id": "c4f87f5a",
   "metadata": {},
   "outputs": [],
   "source": []
  },
  {
   "cell_type": "code",
   "execution_count": 24,
   "id": "5d3c1167",
   "metadata": {},
   "outputs": [],
   "source": [
    "def create_project(codebase: CodeBase) -> None:\n",
    "    home_dir = f\"output/run_{run_manager.run_no}/\"\n",
    "    os.makedirs(home_dir, exist_ok=True)\n",
    "    \n",
    "    for code_file in parsed_skeleton.code_files:\n",
    "        \n",
    "        comment = \"# \" if code_file.name.endswith(\".py\") else \"// \"\n",
    "        \n",
    "        with open(home_dir+code_file.name, \"w\") as f:\n",
    "            f.write(comment+code_file.description+'\\n\\n')\n",
    "            for func in code_file.functions:\n",
    "                f.write(comment+func.signature+'\\n\\n')"
   ]
  },
  {
   "cell_type": "code",
   "execution_count": 25,
   "id": "a90fa22c",
   "metadata": {},
   "outputs": [],
   "source": [
    "create_project(parsed_skeleton)"
   ]
  },
  {
   "cell_type": "code",
   "execution_count": null,
   "id": "4a287d37",
   "metadata": {},
   "outputs": [],
   "source": []
  },
  {
   "cell_type": "markdown",
   "id": "5eb19619",
   "metadata": {},
   "source": [
    "### 4. Create test files & define test cases"
   ]
  },
  {
   "cell_type": "code",
   "execution_count": null,
   "id": "a4704070",
   "metadata": {},
   "outputs": [],
   "source": []
  },
  {
   "cell_type": "code",
   "execution_count": null,
   "id": "6b271a08",
   "metadata": {},
   "outputs": [],
   "source": []
  },
  {
   "cell_type": "markdown",
   "id": "b3c5a3d6",
   "metadata": {
    "heading_collapsed": true
   },
   "source": [
    "### 5./6./7. For each feature: Implement code & test at each step if it works // Write unit test & make sure they pass"
   ]
  },
  {
   "cell_type": "code",
   "execution_count": null,
   "id": "97f349f7",
   "metadata": {
    "hidden": true
   },
   "outputs": [],
   "source": []
  },
  {
   "cell_type": "code",
   "execution_count": null,
   "id": "4ea51050",
   "metadata": {
    "hidden": true
   },
   "outputs": [],
   "source": []
  },
  {
   "cell_type": "markdown",
   "id": "e503c9e2",
   "metadata": {
    "heading_collapsed": true
   },
   "source": [
    "### 8. Write integration test"
   ]
  },
  {
   "cell_type": "code",
   "execution_count": null,
   "id": "ed6f255e",
   "metadata": {
    "hidden": true
   },
   "outputs": [],
   "source": []
  },
  {
   "cell_type": "code",
   "execution_count": null,
   "id": "b87385e0",
   "metadata": {
    "hidden": true
   },
   "outputs": [],
   "source": []
  },
  {
   "cell_type": "markdown",
   "id": "f9c4ba87",
   "metadata": {
    "heading_collapsed": true
   },
   "source": [
    "### 9. For each integration test: make sure they pass"
   ]
  },
  {
   "cell_type": "code",
   "execution_count": null,
   "id": "32442f6c",
   "metadata": {
    "hidden": true
   },
   "outputs": [],
   "source": []
  },
  {
   "cell_type": "code",
   "execution_count": null,
   "id": "02c6c58c",
   "metadata": {
    "hidden": true
   },
   "outputs": [],
   "source": []
  },
  {
   "cell_type": "markdown",
   "id": "642108de",
   "metadata": {
    "heading_collapsed": true
   },
   "source": [
    "### 10. Deploy"
   ]
  },
  {
   "cell_type": "code",
   "execution_count": null,
   "id": "980921de",
   "metadata": {
    "hidden": true
   },
   "outputs": [],
   "source": []
  },
  {
   "cell_type": "code",
   "execution_count": null,
   "id": "e8b77269",
   "metadata": {
    "hidden": true
   },
   "outputs": [],
   "source": []
  },
  {
   "cell_type": "markdown",
   "id": "7db7f866",
   "metadata": {},
   "source": [
    "### Footer"
   ]
  },
  {
   "cell_type": "code",
   "execution_count": null,
   "id": "35c6d4cb",
   "metadata": {},
   "outputs": [],
   "source": []
  },
  {
   "cell_type": "code",
   "execution_count": null,
   "id": "f4a2bee7",
   "metadata": {},
   "outputs": [],
   "source": []
  }
 ],
 "metadata": {
  "kernelspec": {
   "display_name": "Python 3 (ipykernel)",
   "language": "python",
   "name": "python3"
  },
  "language_info": {
   "codemirror_mode": {
    "name": "ipython",
    "version": 3
   },
   "file_extension": ".py",
   "mimetype": "text/x-python",
   "name": "python",
   "nbconvert_exporter": "python",
   "pygments_lexer": "ipython3",
   "version": "3.11.0"
  }
 },
 "nbformat": 4,
 "nbformat_minor": 5
}
